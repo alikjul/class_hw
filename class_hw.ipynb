{
 "cells": [
  {
   "cell_type": "markdown",
   "metadata": {},
   "source": [
    "Задание 1\n",
    "Напишите функцию, которая возвращает название валюты (поле ‘Name’) с максимальным значением курса"
   ]
  },
  {
   "cell_type": "code",
   "execution_count": 40,
   "metadata": {},
   "outputs": [
    {
     "name": "stdout",
     "output_type": "stream",
     "text": [
      "Китайских юаней: 97.6638\n"
     ]
    }
   ],
   "source": [
    "import requests\n",
    "currencies = requests.get(' https://www.cbr-xml-daily.ru/daily_json.js').json()\n",
    "#print(currencies)\n",
    "\n",
    "def highest_rate():\n",
    "    highest = 0\n",
    "    for el in currencies['Valute'].items():\n",
    "        currency = el[1]['Name']\n",
    "        value = el[1]['Value']\n",
    "        if value > highest:\n",
    "            highest = value\n",
    "            currency_ = currency\n",
    "    return print(currency_, ': ', highest, sep = '')\n",
    "\n",
    "highest_rate()"
   ]
  },
  {
   "cell_type": "markdown",
   "metadata": {},
   "source": [
    "Задание 2\n",
    "Добавьте в класс Rate параметр diff (со значениями True или False), который в случае значения True в методах курсов валют (eur, usd итд) будет возвращать не курс валюты, а изменение по сравнению в прошлым значением. Считайте, self.diff будет принимать значение True только при возврате значения курса. При отображении всей информации о валюте он не используется."
   ]
  },
  {
   "cell_type": "code",
   "execution_count": 41,
   "metadata": {},
   "outputs": [],
   "source": [
    "class Rate:\n",
    "    def __init__(self, diff_= False, format_='value'):\n",
    "        self.format = format_\n",
    "        self.diff = diff_\n",
    "        \n",
    "    def exchange_rates(self):\n",
    "        self.r = requests.get('https://www.cbr-xml-daily.ru/daily_json.js')\n",
    "        return self.r.json()['Valute']\n",
    "    \n",
    "    def make_format(self, currency):\n",
    "        response = self.exchange_rates()\n",
    "        if currency in response:\n",
    "            if self.format == 'full':\n",
    "                return response[currency]\n",
    "            if self.format == 'value' and self.diff == True:\n",
    "                return response[currency]['Value'] - response[currency]['Previous']\n",
    "            if self.format == 'value':\n",
    "                return response[currency]['Value']\n",
    "        return 'Error'\n",
    "    \n",
    "    def chosen_currency(self): \n",
    "        return self.make_format(currency_input_[0])\n",
    "    "
   ]
  },
  {
   "cell_type": "code",
   "execution_count": 42,
   "metadata": {},
   "outputs": [
    {
     "name": "stdout",
     "output_type": "stream",
     "text": [
      "Введите код валюты. Для просмотра кодов введите \"help\", для выхода введите \"q\"\n",
      "help\n",
      "AUD AZN GBP AMD BYN BGN BRL HUF HKD DKK USD EUR INR KZT CAD KGS CNY MDL NOK PLN RON XDR SGD TJS TRY TMT UZS UAH CZK SEK CHF ZAR KRW JPY\n",
      "Введите код валюты. Для просмотра кодов введите \"help\", для выхода введите \"q\"\n",
      "AUD\n",
      "Что вы хотите узнать? Для текущего курса введите \"rate\", для разницы в курсах - \"diff\", для возврата к выбору валюты - \"back\"\n",
      "rate\n",
      "47.5742\n",
      "Введите код валюты. Для просмотра кодов введите \"help\", для выхода введите \"q\"\n",
      "EUR\n",
      "Что вы хотите узнать? Для текущего курса введите \"rate\", для разницы в курсах - \"diff\", для возврата к выбору валюты - \"back\"\n",
      "back\n",
      "Введите код валюты. Для просмотра кодов введите \"help\", для выхода введите \"q\"\n",
      "rub\n",
      "Вы ввели некорректную команду\n",
      "Введите код валюты. Для просмотра кодов введите \"help\", для выхода введите \"q\"\n",
      "USD\n",
      "Что вы хотите узнать? Для текущего курса введите \"rate\", для разницы в курсах - \"diff\", для возврата к выбору валюты - \"back\"\n",
      "diff\n",
      "-0.3375999999999948\n",
      "Введите код валюты. Для просмотра кодов введите \"help\", для выхода введите \"q\"\n",
      "q\n",
      "Программа завершена\n"
     ]
    }
   ],
   "source": [
    "import requests\n",
    "currencies = requests.get(' https://www.cbr-xml-daily.ru/daily_json.js').json()\n",
    "code = []\n",
    "currency_input_ = []\n",
    "\n",
    "for el in currencies['Valute'].items():\n",
    "    code_ = el[1]['CharCode']\n",
    "    code.append(code_)\n",
    "\n",
    "def main():\n",
    "    currency_input = input('Введите код валюты. Для просмотра кодов введите \"help\", для выхода введите \"q\"\\n')    \n",
    "    if currency_input in code:\n",
    "        currency_input_.clear()\n",
    "        currency_input_.append(currency_input)\n",
    "        return true_or_false()\n",
    "    elif currency_input == 'help':\n",
    "        print(*code)\n",
    "        return main()\n",
    "    elif currency_input == 'q':\n",
    "        return print('Программа завершена')\n",
    "    elif currency_input == 'test':\n",
    "        print(code, currencies)\n",
    "        return main()\n",
    "    else:\n",
    "        print('Вы ввели некорректную команду')\n",
    "        return main()\n",
    "\n",
    "def true_or_false():\n",
    "    tf_input = input('Что вы хотите узнать? Для текущего курса введите \"rate\", для разницы в курсах - \"diff\", для возврата к выбору валюты - \"back\"\\n')\n",
    "    if tf_input == 'diff':\n",
    "        i = Rate(True, 'value').chosen_currency()\n",
    "        print(i)\n",
    "        return main()\n",
    "    elif tf_input == 'rate':\n",
    "        k = Rate(False).chosen_currency()\n",
    "        #k = Rate(False).test()\n",
    "        print(k)\n",
    "        return main()\n",
    "    elif tf_input == 'back':\n",
    "        return main()\n",
    "    else:\n",
    "        print('Вы ввели некорректную команду')\n",
    "        return true_or_false()\n",
    "    \n",
    "main()"
   ]
  },
  {
   "cell_type": "markdown",
   "metadata": {},
   "source": [
    "Задание 3\n",
    "Напишите класс Designer, который учитывает количество международных премий для дизайнеров (из презентации: \"Повышение на 1 грейд за каждые 7 баллов. Получение международной премии – это +2 балла\"). Считайте, что при выходе на работу сотрудник уже имеет две премии и их количество не меняется со стажем (конечно если хотите это можно вручную менять). Выполните проверку для 20 аккредитаций дизайнера Елены."
   ]
  },
  {
   "cell_type": "code",
   "execution_count": 1,
   "metadata": {},
   "outputs": [],
   "source": [
    "class Employee:\n",
    "    def __init__(self, name, seniority):\n",
    "        self.name = name\n",
    "        self.seniority = seniority\n",
    "        \n",
    "        self.grade = 1\n",
    "    \n",
    "    def grade_up(self):\n",
    "        \"\"\"Повышает уровень сотрудника\"\"\"\n",
    "        self.grade += 1\n",
    "    \n",
    "    def publish_grade(self):\n",
    "        \"\"\"Публикация результатов аккредитации сотрудников\"\"\"\n",
    "        print(self.name, self.grade)\n",
    "    \n",
    "    def check_if_it_is_time_for_upgrade(self):\n",
    "        pass"
   ]
  },
  {
   "cell_type": "code",
   "execution_count": 8,
   "metadata": {},
   "outputs": [],
   "source": [
    "class Developer(Employee):\n",
    "    def __init__(self, name, seniority):\n",
    "        super().__init__(name, seniority)\n",
    "    \n",
    "    def check_if_it_is_time_for_upgrade(self):\n",
    "        # для каждой аккредитации увеличиваем счетчик на 1\n",
    "        # пока считаем, что все разработчики проходят аккредитацию\n",
    "        self.seniority += 1\n",
    "        \n",
    "        # условие повышения сотрудника из презентации\n",
    "        if self.seniority % 5 == 0:\n",
    "            self.grade_up()\n",
    "        \n",
    "        # публикация результатов\n",
    "        return self.publish_grade()"
   ]
  },
  {
   "cell_type": "code",
   "execution_count": 35,
   "metadata": {},
   "outputs": [],
   "source": [
    "class Designer(Employee):\n",
    "    def __init__(self, name, seniority, awards):\n",
    "        self.awards = awards\n",
    "        super().__init__(name, seniority)\n",
    "        \n",
    "    def check_if_it_is_time_for_upgrade(self):\n",
    "        self.seniority += 1\n",
    "        if (self.seniority + self.awards * 2) % 7 == 0:\n",
    "            self.grade_up()\n",
    "        return self.publish_grade()"
   ]
  },
  {
   "cell_type": "code",
   "execution_count": 36,
   "metadata": {},
   "outputs": [],
   "source": [
    "elena = Designer('Елена', seniority=0, awards=2)"
   ]
  },
  {
   "cell_type": "code",
   "execution_count": 37,
   "metadata": {},
   "outputs": [
    {
     "data": {
      "text/plain": [
       "0"
      ]
     },
     "execution_count": 37,
     "metadata": {},
     "output_type": "execute_result"
    }
   ],
   "source": [
    "elena.seniority"
   ]
  },
  {
   "cell_type": "code",
   "execution_count": 38,
   "metadata": {},
   "outputs": [
    {
     "data": {
      "text/plain": [
       "2"
      ]
     },
     "execution_count": 38,
     "metadata": {},
     "output_type": "execute_result"
    }
   ],
   "source": [
    "elena.awards"
   ]
  },
  {
   "cell_type": "code",
   "execution_count": 39,
   "metadata": {},
   "outputs": [
    {
     "name": "stdout",
     "output_type": "stream",
     "text": [
      "Елена 1\n",
      "Елена 1\n",
      "Елена 2\n",
      "Елена 2\n",
      "Елена 2\n",
      "Елена 2\n",
      "Елена 2\n",
      "Елена 2\n",
      "Елена 2\n",
      "Елена 3\n",
      "Елена 3\n",
      "Елена 3\n",
      "Елена 3\n",
      "Елена 3\n",
      "Елена 3\n",
      "Елена 3\n",
      "Елена 4\n",
      "Елена 4\n",
      "Елена 4\n",
      "Елена 4\n"
     ]
    }
   ],
   "source": [
    "for i in range(20):\n",
    "    elena.check_if_it_is_time_for_upgrade()"
   ]
  },
  {
   "cell_type": "code",
   "execution_count": null,
   "metadata": {},
   "outputs": [],
   "source": []
  }
 ],
 "metadata": {
  "kernelspec": {
   "display_name": "Python 3",
   "language": "python",
   "name": "python3"
  },
  "language_info": {
   "codemirror_mode": {
    "name": "ipython",
    "version": 3
   },
   "file_extension": ".py",
   "mimetype": "text/x-python",
   "name": "python",
   "nbconvert_exporter": "python",
   "pygments_lexer": "ipython3",
   "version": "3.7.6"
  }
 },
 "nbformat": 4,
 "nbformat_minor": 4
}
